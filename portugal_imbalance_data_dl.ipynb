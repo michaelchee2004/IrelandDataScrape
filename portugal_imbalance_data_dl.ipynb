{
 "cells": [
  {
   "cell_type": "code",
   "execution_count": 1,
   "metadata": {},
   "outputs": [],
   "source": [
    "import time\n",
    "from selenium import webdriver\n",
    "from selenium.webdriver.common.keys import Keys\n",
    "\n",
    "def downloader(start_date, end_date):\n",
    "    \"\"\"\n",
    "    To download Portugal imbalance data.\n",
    "    Args:\n",
    "        start_date (str): start date of download, in yyyy-mm-dd\n",
    "        end_date (str): end date of download, in yyyy-mm-dd\n",
    "        \n",
    "    \"\"\"\n",
    "    \n",
    "    with webdriver.Chrome() as driver:\n",
    "        driver.get('http://www.mercado.ren.pt/EN/Electr/MarketInfo/MarketResults/Imbalances/Pages/ImbalancesUnit.aspx');\n",
    "\n",
    "        dl_page_button = driver.find_element_by_name('ctl00$ctl14$g_a6cfe6b5_c28c_45ff_b8d3_08bb1cd06e05$ctl08')\n",
    "        dl_page_button.click()\n",
    "        time.sleep(2) \n",
    "\n",
    "        start_date_box = driver.find_element_by_name('ctl00$ctl14$g_a6cfe6b5_c28c_45ff_b8d3_08bb1cd06e05$ctl09$foo')\n",
    "        start_date_box.send_keys(Keys.CONTROL + \"a\")\n",
    "        start_date_box.send_keys(start_date)\n",
    "\n",
    "        end_date_box = driver.find_element_by_name('ctl00$ctl14$g_a6cfe6b5_c28c_45ff_b8d3_08bb1cd06e05$ctl11$foo')\n",
    "        end_date_box.send_keys(Keys.CONTROL + \"a\")\n",
    "        end_date_box.send_keys(end_date)\n",
    "\n",
    "        dl_button1 = driver.find_element_by_name('ctl00$ctl14$g_a6cfe6b5_c28c_45ff_b8d3_08bb1cd06e05$ctl13')\n",
    "        dl_button1.click()\n",
    "        time.sleep(2)\n",
    "\n",
    "        dl_button2 = driver.find_element_by_name('ctl00$ctl14$g_a6cfe6b5_c28c_45ff_b8d3_08bb1cd06e05$ctl14')\n",
    "        dl_button2.click()\n",
    "        time.sleep(20)\n"
   ]
  },
  {
   "cell_type": "code",
   "execution_count": 2,
   "metadata": {},
   "outputs": [],
   "source": [
    "year_list = [2015]\n",
    "\n",
    "month_list = [1,2,3,4,5,6,7,8,9,10,11,12]\n",
    "\n",
    "days_in_month_list = [31,\n",
    "                      28,\n",
    "                      31,\n",
    "                      30,\n",
    "                      31,\n",
    "                      30,\n",
    "                      31,\n",
    "                      31,\n",
    "                      30,\n",
    "                      31,\n",
    "                      30,\n",
    "                      31]\n",
    "\n",
    "days_in_month_list_leap = [31,\n",
    "                           29,\n",
    "                           31,\n",
    "                           30,\n",
    "                           31,\n",
    "                           30,\n",
    "                           31,\n",
    "                           31,\n",
    "                           30,\n",
    "                           31,\n",
    "                           30,\n",
    "                           31]\n"
   ]
  },
  {
   "cell_type": "code",
   "execution_count": 3,
   "metadata": {},
   "outputs": [
    {
     "data": {
      "text/plain": [
       "'2018-03-01'"
      ]
     },
     "execution_count": 3,
     "metadata": {},
     "output_type": "execute_result"
    }
   ],
   "source": [
    "def date_string(year, month, day):\n",
    "    return str(year).zfill(2) + '-' + str(month).zfill(2) + '-' + str(day).zfill(2)\n",
    "\n",
    "date_string(2018,3,1)"
   ]
  },
  {
   "cell_type": "code",
   "execution_count": 4,
   "metadata": {},
   "outputs": [
    {
     "ename": "KeyboardInterrupt",
     "evalue": "",
     "output_type": "error",
     "traceback": [
      "\u001b[1;31m---------------------------------------------------------------------------\u001b[0m",
      "\u001b[1;31mKeyboardInterrupt\u001b[0m                         Traceback (most recent call last)",
      "\u001b[1;32m<ipython-input-4-22f906d17374>\u001b[0m in \u001b[0;36m<module>\u001b[1;34m()\u001b[0m\n\u001b[0;32m     14\u001b[0m                                    days_in_month_list[month-1])\n\u001b[0;32m     15\u001b[0m \u001b[1;33m\u001b[0m\u001b[0m\n\u001b[1;32m---> 16\u001b[1;33m         \u001b[0mdownloader\u001b[0m\u001b[1;33m(\u001b[0m\u001b[0mstart_date\u001b[0m\u001b[1;33m,\u001b[0m \u001b[0mend_date\u001b[0m\u001b[1;33m)\u001b[0m\u001b[1;33m\u001b[0m\u001b[0m\n\u001b[0m",
      "\u001b[1;32m<ipython-input-1-f781a6d6b1da>\u001b[0m in \u001b[0;36mdownloader\u001b[1;34m(start_date, end_date)\u001b[0m\n\u001b[0;32m     33\u001b[0m         \u001b[0mdl_button2\u001b[0m \u001b[1;33m=\u001b[0m \u001b[0mdriver\u001b[0m\u001b[1;33m.\u001b[0m\u001b[0mfind_element_by_name\u001b[0m\u001b[1;33m(\u001b[0m\u001b[1;34m'ctl00$ctl14$g_a6cfe6b5_c28c_45ff_b8d3_08bb1cd06e05$ctl14'\u001b[0m\u001b[1;33m)\u001b[0m\u001b[1;33m\u001b[0m\u001b[0m\n\u001b[0;32m     34\u001b[0m         \u001b[0mdl_button2\u001b[0m\u001b[1;33m.\u001b[0m\u001b[0mclick\u001b[0m\u001b[1;33m(\u001b[0m\u001b[1;33m)\u001b[0m\u001b[1;33m\u001b[0m\u001b[0m\n\u001b[1;32m---> 35\u001b[1;33m         \u001b[0mtime\u001b[0m\u001b[1;33m.\u001b[0m\u001b[0msleep\u001b[0m\u001b[1;33m(\u001b[0m\u001b[1;36m20\u001b[0m\u001b[1;33m)\u001b[0m\u001b[1;33m\u001b[0m\u001b[0m\n\u001b[0m",
      "\u001b[1;31mKeyboardInterrupt\u001b[0m: "
     ]
    }
   ],
   "source": [
    "for year in year_list:\n",
    "    for month in month_list:\n",
    "        start_date = date_string(year, \n",
    "                                 month, \n",
    "                                 1)\n",
    "        \n",
    "        if year == 2016:\n",
    "            start_date = date_string(year, \n",
    "                                     month, \n",
    "                                     days_in_month_list_leap[month-1])\n",
    "        else:\n",
    "            end_date = date_string(year, \n",
    "                                   month, \n",
    "                                   days_in_month_list[month-1])\n",
    "        \n",
    "        downloader(start_date, end_date)\n"
   ]
  }
 ],
 "metadata": {
  "kernelspec": {
   "display_name": "Python 3",
   "language": "python",
   "name": "python3"
  },
  "language_info": {
   "codemirror_mode": {
    "name": "ipython",
    "version": 3
   },
   "file_extension": ".py",
   "mimetype": "text/x-python",
   "name": "python",
   "nbconvert_exporter": "python",
   "pygments_lexer": "ipython3",
   "version": "3.6.5"
  }
 },
 "nbformat": 4,
 "nbformat_minor": 2
}
